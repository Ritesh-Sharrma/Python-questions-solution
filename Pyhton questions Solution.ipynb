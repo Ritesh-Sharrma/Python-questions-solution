{
 "cells": [
  {
   "cell_type": "code",
   "execution_count": 1,
   "id": "7dcfd615-a97f-4112-9783-2d3794f64662",
   "metadata": {},
   "outputs": [
    {
     "name": "stdin",
     "output_type": "stream",
     "text": [
      "Enter a number:  13\n"
     ]
    },
    {
     "name": "stdout",
     "output_type": "stream",
     "text": [
      "13 is a prime number\n"
     ]
    }
   ],
   "source": [
    "#1. Take the input from user and find whether number is prime or not?\n",
    "def prime_num(num):\n",
    "    if num<=1:\n",
    "        return False\n",
    "    for i in range (2,int(num**0.5)+1):\n",
    "        if num%i==0:\n",
    "            return False\n",
    "    return True\n",
    "\n",
    "try:\n",
    "    num = int(input(\"Enter a number: \"))\n",
    "    if prime_num(num):\n",
    "        print(f\"{num} is a prime number\")\n",
    "    else: \n",
    "        print(f\"{num} is a not prime number\")\n",
    "\n",
    "except ValueError:\n",
    "    print(\"invalid input! Enter  a valid number...\")\n",
    "\n",
    "except Excepetion as e:\n",
    "    print(f\"an unexcepted error occured {e}\")\n",
    "    "
   ]
  },
  {
   "cell_type": "code",
   "execution_count": 2,
   "id": "629dc2d4-e1ac-41ab-ab2d-353ad79eb6b1",
   "metadata": {},
   "outputs": [
    {
     "name": "stdin",
     "output_type": "stream",
     "text": [
      "Enter value you want to reverse:  Ritesh\n"
     ]
    },
    {
     "name": "stdout",
     "output_type": "stream",
     "text": [
      "hsetiR\n"
     ]
    }
   ],
   "source": [
    "#2. Reverse the string using for loop.\n",
    "def reverse_string(string):\n",
    "    reverse_string = \"\"\n",
    "    for item in string:\n",
    "        reverse_string = item + reverse_string\n",
    "    return reverse_string\n",
    "def main():\n",
    "    try:\n",
    "        string = input(\"Enter value you want to reverse: \")\n",
    "        result = reverse_string(string)\n",
    "        print(result)\n",
    "    except ValueError:\n",
    "        print(\"invalid! input. Enter any string value you want to reverse\")\n",
    "    except Exception as e:\n",
    "        print(f\"An unnecessary error occoured {e}\")\n",
    "if __name__==\"__main__\":\n",
    "    main()\n",
    "    "
   ]
  },
  {
   "cell_type": "code",
   "execution_count": 4,
   "id": "29114578-5f72-40ff-a1c0-52c3ae7fd456",
   "metadata": {},
   "outputs": [
    {
     "name": "stdin",
     "output_type": "stream",
     "text": [
      "Enter value you want to reverse:  mom\n"
     ]
    },
    {
     "name": "stdout",
     "output_type": "stream",
     "text": [
      "String is palindrome\n"
     ]
    }
   ],
   "source": [
    "#3. Palindrome Check (String Problem)\n",
    "def is_palindrome(string):\n",
    "    reversed_string = string[::-1]\n",
    "    if string == reversed_string:\n",
    "        print(\"String is palindrome\")\n",
    "    else:\n",
    "        print(\"String is not palindrome\")\n",
    "def main():\n",
    "    try:\n",
    "        string = input(\"Enter value you want to reverse: \")\n",
    "        is_palindrome(string)\n",
    "    except ValueError:\n",
    "        print(\"invalid! input. Enter  a valid number...\")\n",
    "    except Exception as e:\n",
    "        print(f\"An unnecessary error occoured {e}\")\n",
    "if __name__==\"__main__\":\n",
    "    main()"
   ]
  },
  {
   "cell_type": "code",
   "execution_count": 5,
   "id": "2ea6c6e7-d6cd-43b2-b8fe-9112cb64e1ee",
   "metadata": {},
   "outputs": [
    {
     "name": "stdin",
     "output_type": "stream",
     "text": [
      "Enter value:  5\n"
     ]
    },
    {
     "name": "stdout",
     "output_type": "stream",
     "text": [
      "120\n"
     ]
    }
   ],
   "source": [
    "#4. Calculate factorial of a number\n",
    "def calculate_factorial(n):\n",
    "    factorial = 1\n",
    "    for i in range(1,n+1):\n",
    "        factorial *= i\n",
    "    return factorial\n",
    "def main():\n",
    "    try:\n",
    "        n = int(input(\"Enter value: \"))\n",
    "        result = calculate_factorial(n)\n",
    "        print(result)\n",
    "    except ValueError:\n",
    "        print(\"invalid! input. Enter  a valid number...\")\n",
    "    except Exception as e:\n",
    "        print(f\"An unnecessary error occoured {e}\")\n",
    "if __name__==\"__main__\":\n",
    "    main()\n",
    "  \n",
    "    "
   ]
  },
  {
   "cell_type": "code",
   "execution_count": 6,
   "id": "271217d9-07a6-4709-8d4c-3d5e89a3455b",
   "metadata": {},
   "outputs": [
    {
     "name": "stdin",
     "output_type": "stream",
     "text": [
      "Enter values with spaces: 1 2 4 5 6\n"
     ]
    },
    {
     "name": "stdout",
     "output_type": "stream",
     "text": [
      "Second largest:5\n"
     ]
    }
   ],
   "source": [
    "#5. Find the Second Largest Element in a List using for loop.\n",
    "def second_largest(num):\n",
    "    if len(num)<2:\n",
    "        raise ValueError(\"ENTER ATLEAST 2 VALUES OR MORE\")\n",
    "    first = second = num[0]\n",
    "    for item in num:\n",
    "        if item > first:\n",
    "            second = first\n",
    "            first = item\n",
    "        elif item > second and item != first:\n",
    "            item = second\n",
    "    if first == second:\n",
    "        print(\"you have enterd same values . please add different values\")\n",
    "    return second\n",
    "def main():\n",
    "    try:\n",
    "        num = [int(x) for x in input(\"Enter values with spaces:\").split()]\n",
    "        result = second_largest(num)\n",
    "        print(f\"Second largest:{result}\")\n",
    "    except ValueError:\n",
    "        print(\"invalid! input\")\n",
    "    except Exception as e:\n",
    "        print(f\"an unnecessary error occoured{e}\")\n",
    "if __name__==\"__main__\":\n",
    "    main()"
   ]
  },
  {
   "cell_type": "code",
   "execution_count": 8,
   "id": "9f4ef1fd-78ed-45ca-b4a4-aa861be0753b",
   "metadata": {},
   "outputs": [
    {
     "name": "stdin",
     "output_type": "stream",
     "text": [
      "Enter value:  Listen\n",
      "Enter value:  Silent\n"
     ]
    },
    {
     "name": "stdout",
     "output_type": "stream",
     "text": [
      "ANAGRAM\n"
     ]
    }
   ],
   "source": [
    "#6 Check for Angram \n",
    "def anagram(str1,str2):\n",
    "\n",
    "    str1 = str1.lower()\n",
    "    str2 = str2.lower()\n",
    "    \n",
    "    if len(str1)==len(str2):\n",
    "        if sorted(str1)==sorted(str2):\n",
    "            print(\"ANAGRAM\")\n",
    "        else:\n",
    "            print(\"NOT\")\n",
    "    else:\n",
    "        print(\"NOT ANAGRAM\")\n",
    "def main():\n",
    "    try:\n",
    "        str1= input(\"Enter value: \")\n",
    "        str2= input(\"Enter value: \")\n",
    "        result = anagram(str1,str2)\n",
    "        return result\n",
    "    except ValueError:\n",
    "        print(\"invalid! input. Enter any valid string values...\")\n",
    "    except Exception as e:\n",
    "        print(f\"An unnecessary error occoured {e}\")\n",
    "if __name__==\"__main__\":\n",
    "    main()       "
   ]
  },
  {
   "cell_type": "code",
   "execution_count": 9,
   "id": "5cd11dc7-eb55-4d7d-a030-aa0b7a3ab88e",
   "metadata": {},
   "outputs": [
    {
     "name": "stdin",
     "output_type": "stream",
     "text": [
      "Enter value:  Ritesh\n"
     ]
    },
    {
     "name": "stdout",
     "output_type": "stream",
     "text": [
      "2\n"
     ]
    }
   ],
   "source": [
    "#7. Count Vowels in a String\n",
    "def count_vowels(text):\n",
    "    vowels = \"aeiou\"\n",
    "    count = 0\n",
    "    for i in text.lower():\n",
    "        if i in vowels:\n",
    "            count +=1\n",
    "    return count \n",
    "def main():\n",
    "    try:\n",
    "        text= input(\"Enter value: \")\n",
    "        print(count_vowels(text)) \n",
    "    except ValueError:\n",
    "        print(\"invalid! input. EEnter  a valid string...\")\n",
    "    except Exception as e:\n",
    "        print(f\"An unnecessary error occoured {e}\")\n",
    "if __name__==\"__main__\":\n",
    "    main()\n",
    "\n"
   ]
  },
  {
   "cell_type": "code",
   "execution_count": 10,
   "id": "fc761a93-4177-4187-9ffc-fa1bc9e8a2b6",
   "metadata": {},
   "outputs": [
    {
     "name": "stdin",
     "output_type": "stream",
     "text": [
      "Enter value:  123\n"
     ]
    },
    {
     "name": "stdout",
     "output_type": "stream",
     "text": [
      "6\n"
     ]
    }
   ],
   "source": [
    "#8. Sum of Digits\n",
    "def sum_of_digits(num):\n",
    "    total = 0 \n",
    "    for digit in str(abs(num)):\n",
    "        total += int(digit)\n",
    "    return total\n",
    "def main():\n",
    "    try:\n",
    "        num = int(input(\"Enter value: \"))\n",
    "        result = sum_of_digits(num)\n",
    "        print(result)\n",
    "    except ValueError:\n",
    "        print(\"invalid! input. Enter  a valid number...\")\n",
    "    except Exception as e:\n",
    "        print(f\"An unnecessary error occoured {e}\")\n",
    "if __name__==\"__main__\":\n",
    "    main()\n"
   ]
  },
  {
   "cell_type": "code",
   "execution_count": 11,
   "id": "97d9aedc-5513-4b37-9a31-5cd68d7a8252",
   "metadata": {},
   "outputs": [
    {
     "name": "stdin",
     "output_type": "stream",
     "text": [
      "Enter value:  6\n"
     ]
    },
    {
     "name": "stdout",
     "output_type": "stream",
     "text": [
      "0 1 1 2 3 5 "
     ]
    }
   ],
   "source": [
    "#9 Fibocacci Series \n",
    "def fibonacci_series(n):\n",
    "    a,b = 0,1\n",
    "    for i in range(n):\n",
    "        print(a,end=\" \")\n",
    "        a,b=b,a+b\n",
    "def main():\n",
    "    try:\n",
    "        n = int(input(\"Enter value: \"))\n",
    "        return fibonacci_series(n)\n",
    "    except ValueError:\n",
    "        print(\"invalid! input. Enter  a valid number...\")\n",
    "    except Exception as e:\n",
    "        print(f\"An unnecessary error occoured {e}\")\n",
    "if __name__==\"__main__\":\n",
    "    main()"
   ]
  },
  {
   "cell_type": "code",
   "execution_count": null,
   "id": "cfea26e4-1c3f-42b9-bf4d-aa34e45ecfb1",
   "metadata": {},
   "outputs": [],
   "source": [
    "#10. Remove Duplicates from a List\n",
    "def remove_duplicates(list1):\n",
    "    unique_list = []\n",
    "    for items in list1:\n",
    "        if items not in unique_list:\n",
    "            unique_list.append(items)\n",
    "    return unique_list\n",
    "def main():\n",
    "    try:\n",
    "        list1= [int(x) for x in input(\"Enter numbes:\").split()]\n",
    "        print(remove_duplicates(list1))\n",
    "    except ValueError:\n",
    "        print(\"invalid! input \")\n",
    "    except Exception as e:\n",
    "        print(f\"An unnecessary error occoured {e}\")\n",
    "if __name__==\"__main__\":\n",
    "    main()"
   ]
  }
 ],
 "metadata": {
  "kernelspec": {
   "display_name": "Python 3 (ipykernel)",
   "language": "python",
   "name": "python3"
  },
  "language_info": {
   "codemirror_mode": {
    "name": "ipython",
    "version": 3
   },
   "file_extension": ".py",
   "mimetype": "text/x-python",
   "name": "python",
   "nbconvert_exporter": "python",
   "pygments_lexer": "ipython3",
   "version": "3.12.4"
  }
 },
 "nbformat": 4,
 "nbformat_minor": 5
}
